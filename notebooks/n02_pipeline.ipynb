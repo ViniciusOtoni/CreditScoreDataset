{
 "cells": [
  {
   "cell_type": "code",
   "execution_count": 1,
   "metadata": {},
   "outputs": [],
   "source": [
    "from sklearn.pipeline import Pipeline\n",
    "import ETL\n",
    "import pandas as pd"
   ]
  },
  {
   "cell_type": "code",
   "execution_count": 2,
   "metadata": {},
   "outputs": [
    {
     "name": "stderr",
     "output_type": "stream",
     "text": [
      "C:\\Users\\vinic\\AppData\\Local\\Temp\\ipykernel_13644\\2275389496.py:1: DtypeWarning: Columns (26) have mixed types. Specify dtype option on import or set low_memory=False.\n",
      "  df = pd.read_csv('../data/d01_raw/train.csv')\n"
     ]
    }
   ],
   "source": [
    "df = pd.read_csv('../data/d01_raw/train.csv')"
   ]
  },
  {
   "cell_type": "code",
   "execution_count": 3,
   "metadata": {},
   "outputs": [
    {
     "data": {
      "text/plain": [
       "Payment_of_Min_Amount\n",
       "Yes    52326\n",
       "No     35667\n",
       "NM     12007\n",
       "Name: count, dtype: int64"
      ]
     },
     "execution_count": 3,
     "metadata": {},
     "output_type": "execute_result"
    }
   ],
   "source": [
    "df['Payment_of_Min_Amount'].value_counts()"
   ]
  },
  {
   "cell_type": "code",
   "execution_count": 4,
   "metadata": {},
   "outputs": [],
   "source": [
    "str_pipe = Pipeline(steps=[\n",
    "    (\"TransformToNull\", ETL.TransformToNull(column_names=['Occupation', 'SSN', 'Changed_Credit_Limit', 'Credit_Mix', 'Payment_of_Min_Amount', 'Payment_Behaviour'])),\n",
    "    # (\"CleaningMissingCreditCard\", ETL.CleaningMissingCreditCard(column_name='Num_Credit_Card')),\n",
    "    # (\"CleaningMissingTypeOfLoan\", ETL.CleaningMissingTypeOfLoan(column_name='Type_of_Loan')),\n",
    "    # (\"CleaningMissingDelayedPayment\", ETL.CleaningMissingDelayedPayment(column_name='Num_of_Delayed_Payment')),\n",
    "    # (\"CleaningMissingMonthlySalary\", ETL.CleaningMissingMonthlySalary(column_name='Monthly_Inhand_Salary')),\n",
    "    # (\"CleaningNumBankAccounts\", ETL.CleaningNumBankAccounts(column_name='Num_Bank_Accounts')),\n",
    "    # (\"CleaningMissingValues\", ETL.CleaningMissingValues(column_names=['Name', 'Occupation', 'SSN', 'Changed_Credit_Limit', 'Num_Credit_Inquiries', 'Credit_Mix', 'Payment_of_Min_Amount', 'Amount_invested_monthly', 'Payment_Behaviour', 'Monthly_Balance', 'Credit_History_Age'])),\n",
    "    # (\"CleaningNotNumbers\", ETL.CleaningNotNumbers(column_names=['Age', 'Annual_Income', 'Num_of_Loan', 'Num_of_Delayed_Payment', 'Changed_Credit_Limit', 'Outstanding_Debt', 'Amount_invested_monthly', 'Monthly_Balance'])),\n",
    "    # (\"ModifyMonthCreditHistory\", ETL.ModifyMonthCreditHistory(column_name='Credit_History_Age')),\n",
    "    # # (\"CreateDateCreditHistoryColumn\", ETL.CreateDateCreditHistoryColumn(column_name='Credit_History_Age')),\n",
    "    # (\"CreateMonthNumberColumn\", ETL.CreateMonthNumberColumn(column_name='Month')),\n",
    "    # (\"TransformToBinaryValues\", ETL.TransformToBinaryValues(column_name='Payment_of_Min_Amount')),\n",
    "    # (\"ConvertDtypeToNumeric\", ETL.ConvertDtypeToNumeric(column_names=['Age', 'Annual_Income', 'Num_of_Loan', 'Num_of_Delayed_Payment', 'Changed_Credit_Limit', 'Outstanding_Debt', 'Amount_invested_monthly', 'Monthly_Balance']))\n",
    "])"
   ]
  },
  {
   "cell_type": "code",
   "execution_count": 5,
   "metadata": {},
   "outputs": [],
   "source": [
    "example = str_pipe.fit_transform(df)"
   ]
  },
  {
   "cell_type": "code",
   "execution_count": 6,
   "metadata": {},
   "outputs": [
    {
     "data": {
      "text/plain": [
       "Payment_of_Min_Amount\n",
       "Yes    52326\n",
       "No     35667\n",
       "Name: count, dtype: int64"
      ]
     },
     "execution_count": 6,
     "metadata": {},
     "output_type": "execute_result"
    }
   ],
   "source": [
    "example['Payment_of_Min_Amount'].value_counts()"
   ]
  },
  {
   "cell_type": "code",
   "execution_count": null,
   "metadata": {},
   "outputs": [],
   "source": []
  }
 ],
 "metadata": {
  "kernelspec": {
   "display_name": "Python 3",
   "language": "python",
   "name": "python3"
  },
  "language_info": {
   "codemirror_mode": {
    "name": "ipython",
    "version": 3
   },
   "file_extension": ".py",
   "mimetype": "text/x-python",
   "name": "python",
   "nbconvert_exporter": "python",
   "pygments_lexer": "ipython3",
   "version": "3.12.3"
  }
 },
 "nbformat": 4,
 "nbformat_minor": 2
}
